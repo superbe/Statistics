{
 "cells": [
  {
   "cell_type": "markdown",
   "metadata": {},
   "source": [
    "# Домашняя работа к уроку 1"
   ]
  },
  {
   "cell_type": "code",
   "execution_count": 1,
   "metadata": {},
   "outputs": [],
   "source": [
    "import numpy as np"
   ]
  },
  {
   "cell_type": "code",
   "execution_count": 2,
   "metadata": {},
   "outputs": [],
   "source": [
    "# Число размещений\n",
    "def arrangements(n: int, k: int) -> int:\n",
    "    return np.math.factorial(n) // np.math.factorial(n - k)"
   ]
  },
  {
   "cell_type": "code",
   "execution_count": 3,
   "metadata": {},
   "outputs": [],
   "source": [
    "# Число перестановок\n",
    "def permutations(n: int) -> int:\n",
    "    return np.math.factorial(n)"
   ]
  },
  {
   "cell_type": "code",
   "execution_count": 4,
   "metadata": {},
   "outputs": [],
   "source": [
    "# Число сочетаний\n",
    "def combinations(n: int, k: int) -> int:\n",
    "    return np.math.factorial(n) // (np.math.factorial(k) * np.math.factorial(n - k))"
   ]
  },
  {
   "cell_type": "markdown",
   "metadata": {},
   "source": [
    "### Задача 1"
   ]
  },
  {
   "cell_type": "markdown",
   "metadata": {},
   "source": [
    "Из колоды в 52 карты вынимают случайным образом 4 карты. Найти число исходов, соответствующих тому, что был вытянут хотя бы один туз."
   ]
  },
  {
   "cell_type": "markdown",
   "metadata": {},
   "source": [
    "Искомое число можно найти по частям.\n",
    "Фраза \"был вытянут хотя бы один туз\" означает, что может быть вытянут или 1 или 2 или 3 или 4 туза:\n",
    "\n",
    "- Пусть число $a$ соответствует ситуации, когда среди $4$ вытянутых карт $1$ туз.\n",
    "\n",
    "- Пусть число $b$ соответствует ситуации, когда среди $4$ вытянутых карт $2$ туза.\n",
    "\n",
    "- Пусть число $c$ соответствует ситуации, когда среди $4$ вытянутых карт $3$ туза.\n",
    "\n",
    "- Пусть число $d$ соответствует ситуации, когда среди $4$ вытянутых карт $4$ туза.\n",
    "\n",
    "\n",
    "Итак, рассмотрим первую ситуацию: среди $4$ вытянутых карт $1$ туз. Это означает, что\n",
    "1. тузы вытягиваются случайно из множества, содержащего $4$ туза,\n",
    "2. оставшиеся карты вытягиваются случайно из множества, содержащего оставшиеся $32$ карты (всё кроме тузов)."
   ]
  },
  {
   "cell_type": "markdown",
   "metadata": {},
   "source": [
    "Рассмотрим ситуацию, когда всего $1$ туз (число a). Соответственно, из оставшихся $32$ карт мы вытягиваем $3$ карты."
   ]
  },
  {
   "cell_type": "code",
   "execution_count": 5,
   "metadata": {},
   "outputs": [
    {
     "name": "stdout",
     "output_type": "stream",
     "text": [
      "19840\n"
     ]
    }
   ],
   "source": [
    "a = combinations(4, 1) * combinations(32, 3)\n",
    "print(a)"
   ]
  },
  {
   "cell_type": "markdown",
   "metadata": {},
   "source": [
    "Рассмотрим ситуацию, когда тузов $2$ (число b). Соответственно, из оставшихся $32$ карт мы вытягиваем $2$."
   ]
  },
  {
   "cell_type": "code",
   "execution_count": 6,
   "metadata": {},
   "outputs": [
    {
     "name": "stdout",
     "output_type": "stream",
     "text": [
      "2976\n"
     ]
    }
   ],
   "source": [
    "b = combinations(4, 2) * combinations(32, 2)\n",
    "print(b)"
   ]
  },
  {
   "cell_type": "markdown",
   "metadata": {},
   "source": [
    "Рассмотрим ситуацию, когда тузов $3$ (число c). Соответственно, из оставшихся $32$ карт мы вытягиваем $1$."
   ]
  },
  {
   "cell_type": "code",
   "execution_count": 7,
   "metadata": {},
   "outputs": [
    {
     "name": "stdout",
     "output_type": "stream",
     "text": [
      "128\n"
     ]
    }
   ],
   "source": [
    "c = combinations(4, 3) * combinations(32, 1)\n",
    "print(c)"
   ]
  },
  {
   "cell_type": "markdown",
   "metadata": {},
   "source": [
    "Рассмотрим ситуацию, когда тузов $4$ (число d). Соответственно, из оставшихся $32$ карт мы ничего не вытягиваем."
   ]
  },
  {
   "cell_type": "code",
   "execution_count": 8,
   "metadata": {},
   "outputs": [
    {
     "name": "stdout",
     "output_type": "stream",
     "text": [
      "1\n"
     ]
    }
   ],
   "source": [
    "d = combinations(4, 4) * combinations(32, 0)\n",
    "print(d)"
   ]
  },
  {
   "cell_type": "markdown",
   "metadata": {},
   "source": [
    "Искомое число способов:"
   ]
  },
  {
   "cell_type": "code",
   "execution_count": 9,
   "metadata": {},
   "outputs": [
    {
     "data": {
      "text/plain": [
       "22945"
      ]
     },
     "execution_count": 9,
     "metadata": {},
     "output_type": "execute_result"
    }
   ],
   "source": [
    "a + b + c + d"
   ]
  },
  {
   "cell_type": "markdown",
   "metadata": {},
   "source": [
    "### Задача 2"
   ]
  },
  {
   "cell_type": "markdown",
   "metadata": {},
   "source": [
    "Семь человек рассаживаются наудачу на скамейке. Какова вероятность того, что рядом будут сидеть: а) два определённых человека? б) три определённых человека?"
   ]
  },
  {
   "cell_type": "markdown",
   "metadata": {},
   "source": [
    "a) Рассадить всех можно $7!$ способами. Допустим посадили одного определенного человека, тогда остальных человек можно рассадить $6!$ способами. Каждая пара может сесть двумя различными способами."
   ]
  },
  {
   "cell_type": "markdown",
   "metadata": {},
   "source": [
    "$$n = {7!}, m = {2}\\cdot{6!}$$"
   ]
  },
  {
   "cell_type": "markdown",
   "metadata": {},
   "source": [
    "$$P = \\frac{m}{n} = \\frac{{2}\\cdot{6!}}{7!} = \\frac{2}{7} ≈ 0,29$$"
   ]
  },
  {
   "cell_type": "markdown",
   "metadata": {},
   "source": [
    "б) Рассадить всех можно $7!$ способами. Допустим посадили двух определенных человек, тогда остальных человек можно рассадить $5!$ способами. Каждая тройка может сесть $3!$ различными способами."
   ]
  },
  {
   "cell_type": "markdown",
   "metadata": {},
   "source": [
    "$$n = {7!}, m = {5!}\\cdot{3!} = 720$$"
   ]
  },
  {
   "cell_type": "markdown",
   "metadata": {},
   "source": [
    "$$P = \\frac{m}{n} = \\frac{720}{7!} = \\frac{1}{7} ≈ 0,142857$$"
   ]
  },
  {
   "cell_type": "markdown",
   "metadata": {},
   "source": [
    "### Задача 3"
   ]
  },
  {
   "cell_type": "markdown",
   "metadata": {},
   "source": [
    "Из 60 вопросов, входящих в экзаменационные билеты, студент знает 50. Какова вероятность того, что среди трёх наугад выбранных вопросов студент знает: а) все? б) два?"
   ]
  },
  {
   "cell_type": "markdown",
   "metadata": {},
   "source": [
    "Всего сочетаний по $3$ вопроса из $60$ будет"
   ]
  },
  {
   "cell_type": "markdown",
   "metadata": {},
   "source": [
    "$$n = C_{60}^3 = \\frac{60!}{3! \\cdot (60 - 3)!} = \\frac{60!}{3! \\cdot 57!} = \\frac{58 \\cdot 59 \\cdot 60}{1 \\cdot 2 \\cdot 3} = 34220$$"
   ]
  },
  {
   "cell_type": "markdown",
   "metadata": {},
   "source": [
    "a) Всего сочетаний по $3$ вопроса из $50$ знакомых вопросов будет"
   ]
  },
  {
   "cell_type": "markdown",
   "metadata": {},
   "source": [
    "$$m = C_{50}^3 = \\frac{50!}{3! \\cdot (50 - 3)!} = \\frac{50!}{3! \\cdot 47!} = \\frac{48 \\cdot 49 \\cdot 50}{1 \\cdot 2 \\cdot 3} = 19600$$"
   ]
  },
  {
   "cell_type": "markdown",
   "metadata": {},
   "source": [
    "Тогда"
   ]
  },
  {
   "cell_type": "markdown",
   "metadata": {},
   "source": [
    "$$P = \\frac{m}{n} = \\frac{19600}{34220} ≈ 0,57277$$"
   ]
  },
  {
   "cell_type": "markdown",
   "metadata": {},
   "source": [
    "б) Всего сочетаний по $2$ вопроса из $50$ знакомых вопросов будет"
   ]
  },
  {
   "cell_type": "markdown",
   "metadata": {},
   "source": [
    "$$m_1 = C_{50}^2 = \\frac{50!}{2! \\cdot (50 - 2)!} = \\frac{50!}{2! \\cdot 48!} = \\frac{49 \\cdot 50}{1 \\cdot 2} = 1225$$"
   ]
  },
  {
   "cell_type": "markdown",
   "metadata": {},
   "source": [
    "Всего по одному вопросу из $10$ незнакомых будет"
   ]
  },
  {
   "cell_type": "markdown",
   "metadata": {},
   "source": [
    "$$m_1 = C_{10}^1 = \\frac{10!}{1! \\cdot (10 - 1)!} = \\frac{10!}{1! \\cdot 9!} = 10$$"
   ]
  },
  {
   "cell_type": "markdown",
   "metadata": {},
   "source": [
    "Таким образом общее количество сочетаний 1 неизвестного вопроса и 2-х известных"
   ]
  },
  {
   "cell_type": "markdown",
   "metadata": {},
   "source": [
    "$$m = m_1 \\cdot m_2 = 1225 \\cdot 10 = 12250$$"
   ]
  },
  {
   "cell_type": "markdown",
   "metadata": {},
   "source": [
    "Тогда"
   ]
  },
  {
   "cell_type": "markdown",
   "metadata": {},
   "source": [
    "$$P = \\frac{m}{n} = \\frac{12250}{34220} ≈ 0,35798$$"
   ]
  },
  {
   "cell_type": "markdown",
   "metadata": {},
   "source": [
    "### Задача 4"
   ]
  },
  {
   "cell_type": "markdown",
   "metadata": {},
   "source": [
    "Бросается игральная кость. Пусть событие `A` - появление чётного числа, событие `B` - появление числа больше трёх. Являются ли эти события независимыми?"
   ]
  },
  {
   "cell_type": "markdown",
   "metadata": {},
   "source": [
    "Очевидно, что количество четных чисел и чисел больших трех равны в половину всех чисел, отсюда $P(A) = P(B) = 1/2$. Посчитаем совместную вероятность $P(AB)$. Событие $AB$ соответствует выпадению одновременно четного числа и числа большего трёх (это числа $4$ и $6$, т.е. два числа из шести) $P(AB) = 2/6 = 1/3$."
   ]
  },
  {
   "cell_type": "markdown",
   "metadata": {},
   "source": [
    "$$P(A|B) = \\dfrac{P(AB)}{P(B)} = \\dfrac{\\frac{1}{3}}{\\frac{1}{2}} = \\dfrac{2}{3}.$$"
   ]
  },
  {
   "cell_type": "markdown",
   "metadata": {},
   "source": [
    "$$\\dfrac{2}{3} ≠ \\dfrac{1}{2}$$"
   ]
  },
  {
   "cell_type": "markdown",
   "metadata": {},
   "source": [
    "События не являются независимыми."
   ]
  },
  {
   "cell_type": "markdown",
   "metadata": {},
   "source": [
    "### Задача 5"
   ]
  },
  {
   "cell_type": "markdown",
   "metadata": {},
   "source": [
    "Допустим, имеется некоторая очень редкая болезнь (поражает 0.1% населения). Вы приходите к врачу, вам делают тест на эту болезнь, и тест оказывается положительным. Врач говорит вам, что этот тест верно выявляет 99% больных этой болезнью и всего лишь в 1% случаев даёт ложный положительный ответ.\n",
    "\n",
    "_Вопрос_: какова вероятность, что вы действительно больны ей?\n",
    "\n",
    "_Подсказка_: вновь используйте формулу Байеса с раскрытием знаменателя с помощью формулы полной вероятности."
   ]
  },
  {
   "cell_type": "markdown",
   "metadata": {},
   "source": [
    "Событие $A$ заключается в том, что человек заболел с вероятностью $0.1%$, событие же $B_1$ заключается в том, что тест верно выявил болезнь с вероятностью $99%$, а $B_2$ заключается в том, что тест дал ошибку в $1%$."
   ]
  },
  {
   "cell_type": "markdown",
   "metadata": {},
   "source": [
    "Вероятность того, что человек заболел $P(B_1) =  0,1$."
   ]
  },
  {
   "cell_type": "markdown",
   "metadata": {},
   "source": [
    "Вероятность того, что человек не заболел $P(B_2) =  0,9$."
   ]
  },
  {
   "cell_type": "markdown",
   "metadata": {},
   "source": [
    "$$P(A|B_1) = 0,99$$\n",
    "$$P(A|B_2) = 0,01$$"
   ]
  },
  {
   "cell_type": "markdown",
   "metadata": {},
   "source": [
    "Полная вероятность прохождения теста"
   ]
  },
  {
   "cell_type": "markdown",
   "metadata": {},
   "source": [
    "$$P(A) = P(A | B_1) \\cdot P(B_1) + P(A | B_2) \\cdot P(B_2)$$"
   ]
  },
  {
   "cell_type": "markdown",
   "metadata": {},
   "source": [
    "$$P(A) = 0,99 \\cdot 0,001 + 0,01 \\cdot 0,009 = 0,00108$$"
   ]
  },
  {
   "cell_type": "markdown",
   "metadata": {},
   "source": [
    "$$P(B_1|A) = \\dfrac{0,99 \\cdot 0,001}{0,00108} = 0,916667$$"
   ]
  },
  {
   "cell_type": "markdown",
   "metadata": {},
   "source": [
    "Вероятность того, что действительно больны $0,916667$"
   ]
  }
 ],
 "metadata": {
  "kernelspec": {
   "display_name": "Python 3",
   "language": "python",
   "name": "python3"
  },
  "language_info": {
   "codemirror_mode": {
    "name": "ipython",
    "version": 3
   },
   "file_extension": ".py",
   "mimetype": "text/x-python",
   "name": "python",
   "nbconvert_exporter": "python",
   "pygments_lexer": "ipython3",
   "version": "3.6.5"
  }
 },
 "nbformat": 4,
 "nbformat_minor": 2
}
