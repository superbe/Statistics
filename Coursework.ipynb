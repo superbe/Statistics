{
 "cells": [
  {
   "cell_type": "markdown",
   "metadata": {},
   "source": [
    "# Теория вероятностей и математическая статистика"
   ]
  },
  {
   "cell_type": "markdown",
   "metadata": {},
   "source": [
    "### Курсовая работа"
   ]
  },
  {
   "cell_type": "markdown",
   "metadata": {},
   "source": [
    "Исследовать корреляционную зависимость и выявить методами парной регрессии зависимость для динамической вязкости нефтяной эмульсии от обводненности при различных плотностях нефти и различных значениях температуры и давления для различных степеней деспергирования нефти в воде или воды в нефти. Исследовать инверсию фаз.\n",
    "\n",
    "Для исследования желательно следующие данные:\n",
    "- вязкость эмульсии,\n",
    "- обводненность эмульсии,\n",
    "- плотность нефти,\n",
    "- плотность воды,\n",
    "- вязкость воды,\n",
    "- вязкость чистой нефти,\n",
    "- температура эмульсии,\n",
    "- давление при котором происходить измерение,\n",
    "- размер зерна несомой фазы (воды в нефти или нефти в воде)."
   ]
  },
  {
   "cell_type": "markdown",
   "metadata": {},
   "source": [
    "Данные подготовлены по работе Miss Sarin Wutthisirisart \"ANALYSIS OF VISCOSITY OF LIGHT OIL AND ITSEMULSION FROM AN OILFIELD IN THAILAND\", Chulalongkorn University, 2014."
   ]
  },
  {
   "cell_type": "markdown",
   "metadata": {},
   "source": [
    "Заданы следующие параметры:\n",
    "- плотность нефти $828  \\dfrac{kg}{m^3}$,\n",
    "- дисперсность не определена, предполагается, что она постоянная для всех экспериментов.\n",
    "\n",
    "Остальные параметры предполагается соответствуют нормальным условиям."
   ]
  },
  {
   "cell_type": "code",
   "execution_count": 1,
   "metadata": {},
   "outputs": [],
   "source": [
    "from matplotlib import cm\n",
    "from matplotlib import pyplot as plt\n",
    "from matplotlib.ticker import LinearLocator, FormatStrFormatter\n",
    "from mpl_toolkits.mplot3d import Axes3D\n",
    "from scipy import stats\n",
    "from statsmodels.stats.diagnostic import lilliefors\n",
    "import numpy as np\n",
    "import pandas as pd\n",
    "import seaborn as sns\n",
    "import warnings\n",
    "\n",
    "warnings.filterwarnings('ignore')\n",
    "plt.style.use('seaborn-whitegrid')"
   ]
  },
  {
   "cell_type": "markdown",
   "metadata": {},
   "source": [
    "__Вспомогательные функции__"
   ]
  },
  {
   "cell_type": "code",
   "execution_count": 2,
   "metadata": {},
   "outputs": [],
   "source": [
    "def emissions(data):\n",
    "    # Считаем диапазон за границами которого все выброс.    \n",
    "    q1 = data.quantile(0.25)\n",
    "    q3 = data.quantile(0.75)\n",
    "    iqr = q3 - q1\n",
    "    return (q1 - 1.5 * iqr, q3 + 1.5 * iqr)"
   ]
  },
  {
   "cell_type": "code",
   "execution_count": 3,
   "metadata": {},
   "outputs": [],
   "source": [
    "def pair_regression(x, y):\n",
    "    # Решаем методом парной регрессии.    \n",
    "    b1 = np.cov(x, y, ddof=1)[0, 1] / np.var(x, ddof=1)\n",
    "    return (y.mean() - b1 * x.mean(), b1)"
   ]
  },
  {
   "cell_type": "code",
   "execution_count": 4,
   "metadata": {},
   "outputs": [],
   "source": [
    "def regression_plot(x, y, b0, b1, xlabel, ylabel, show_scatter=True):\n",
    "    # Отрисовали графики по методу парной регрессии.    \n",
    "    ox = np.array(sorted(list(set(x))))\n",
    "    # восстановили y, так как ранее логарифмировали переменную y.\n",
    "    oy = np.exp(b0 + b1 * ox)\n",
    "\n",
    "    if (show_scatter):\n",
    "        plt.scatter(x, y)\n",
    "    plt.plot(ox, oy, color='red', alpha=0.5)\n",
    "\n",
    "    plt.xlabel(xlabel)\n",
    "    plt.ylabel(ylabel);"
   ]
  },
  {
   "cell_type": "code",
   "execution_count": 5,
   "metadata": {},
   "outputs": [],
   "source": [
    "def least_square_method(x, y):\n",
    "    # Метод наименьших квадратов.\n",
    "    XTX = x.T.dot(x)\n",
    "    XTX_inv = np.linalg.inv(XTX)\n",
    "    return XTX_inv.dot(x.T).dot(y)"
   ]
  },
  {
   "cell_type": "markdown",
   "metadata": {},
   "source": [
    "__Загружаем данные__"
   ]
  },
  {
   "cell_type": "code",
   "execution_count": 6,
   "metadata": {},
   "outputs": [],
   "source": [
    "df = pd.read_csv('Data/ds_001.csv', encoding='UTF-8')"
   ]
  },
  {
   "cell_type": "markdown",
   "metadata": {},
   "source": [
    "Здесь:\n",
    "- watercut – обводненность в долях %;\n",
    "- temperature – температура, °C;\n",
    "- angularvelocity – угловая скорость измерительного цилиндра вискозиметра, об/мин;\n",
    "- viscosity – динамическая вязкость водонефтяной эмульсии, сП;"
   ]
  },
  {
   "cell_type": "markdown",
   "metadata": {},
   "source": [
    "__Первичная обработка данных__"
   ]
  },
  {
   "cell_type": "markdown",
   "metadata": {},
   "source": [
    "Сортируем"
   ]
  },
  {
   "cell_type": "code",
   "execution_count": 7,
   "metadata": {},
   "outputs": [],
   "source": [
    "df = df.sort_values(by=['viscosity'])"
   ]
  },
  {
   "cell_type": "markdown",
   "metadata": {},
   "source": [
    "Посмотрели статистику"
   ]
  },
  {
   "cell_type": "code",
   "execution_count": 8,
   "metadata": {},
   "outputs": [
    {
     "data": {
      "text/html": [
       "<div>\n",
       "<style scoped>\n",
       "    .dataframe tbody tr th:only-of-type {\n",
       "        vertical-align: middle;\n",
       "    }\n",
       "\n",
       "    .dataframe tbody tr th {\n",
       "        vertical-align: top;\n",
       "    }\n",
       "\n",
       "    .dataframe thead th {\n",
       "        text-align: right;\n",
       "    }\n",
       "</style>\n",
       "<table border=\"1\" class=\"dataframe\">\n",
       "  <thead>\n",
       "    <tr style=\"text-align: right;\">\n",
       "      <th></th>\n",
       "      <th>watercut</th>\n",
       "      <th>temperature</th>\n",
       "      <th>angularvelocity</th>\n",
       "      <th>viscosity</th>\n",
       "    </tr>\n",
       "  </thead>\n",
       "  <tbody>\n",
       "    <tr>\n",
       "      <th>count</th>\n",
       "      <td>252.000000</td>\n",
       "      <td>252.000000</td>\n",
       "      <td>252.000000</td>\n",
       "      <td>243.000000</td>\n",
       "    </tr>\n",
       "    <tr>\n",
       "      <th>mean</th>\n",
       "      <td>30.000000</td>\n",
       "      <td>56.666667</td>\n",
       "      <td>23.500000</td>\n",
       "      <td>1786.347825</td>\n",
       "    </tr>\n",
       "    <tr>\n",
       "      <th>std</th>\n",
       "      <td>20.039801</td>\n",
       "      <td>19.759510</td>\n",
       "      <td>19.987546</td>\n",
       "      <td>8022.352488</td>\n",
       "    </tr>\n",
       "    <tr>\n",
       "      <th>min</th>\n",
       "      <td>0.000000</td>\n",
       "      <td>30.000000</td>\n",
       "      <td>1.000000</td>\n",
       "      <td>1.200000</td>\n",
       "    </tr>\n",
       "    <tr>\n",
       "      <th>25%</th>\n",
       "      <td>10.000000</td>\n",
       "      <td>40.000000</td>\n",
       "      <td>5.000000</td>\n",
       "      <td>4.649400</td>\n",
       "    </tr>\n",
       "    <tr>\n",
       "      <th>50%</th>\n",
       "      <td>30.000000</td>\n",
       "      <td>55.000000</td>\n",
       "      <td>20.000000</td>\n",
       "      <td>6.366700</td>\n",
       "    </tr>\n",
       "    <tr>\n",
       "      <th>75%</th>\n",
       "      <td>50.000000</td>\n",
       "      <td>70.000000</td>\n",
       "      <td>35.000000</td>\n",
       "      <td>22.375350</td>\n",
       "    </tr>\n",
       "    <tr>\n",
       "      <th>max</th>\n",
       "      <td>60.000000</td>\n",
       "      <td>90.000000</td>\n",
       "      <td>60.000000</td>\n",
       "      <td>84660.000000</td>\n",
       "    </tr>\n",
       "  </tbody>\n",
       "</table>\n",
       "</div>"
      ],
      "text/plain": [
       "         watercut  temperature  angularvelocity     viscosity\n",
       "count  252.000000   252.000000       252.000000    243.000000\n",
       "mean    30.000000    56.666667        23.500000   1786.347825\n",
       "std     20.039801    19.759510        19.987546   8022.352488\n",
       "min      0.000000    30.000000         1.000000      1.200000\n",
       "25%     10.000000    40.000000         5.000000      4.649400\n",
       "50%     30.000000    55.000000        20.000000      6.366700\n",
       "75%     50.000000    70.000000        35.000000     22.375350\n",
       "max     60.000000    90.000000        60.000000  84660.000000"
      ]
     },
     "execution_count": 8,
     "metadata": {},
     "output_type": "execute_result"
    }
   ],
   "source": [
    "df.describe()"
   ]
  },
  {
   "cell_type": "code",
   "execution_count": 9,
   "metadata": {},
   "outputs": [
    {
     "data": {
      "text/html": [
       "<div>\n",
       "<style scoped>\n",
       "    .dataframe tbody tr th:only-of-type {\n",
       "        vertical-align: middle;\n",
       "    }\n",
       "\n",
       "    .dataframe tbody tr th {\n",
       "        vertical-align: top;\n",
       "    }\n",
       "\n",
       "    .dataframe thead th {\n",
       "        text-align: right;\n",
       "    }\n",
       "</style>\n",
       "<table border=\"1\" class=\"dataframe\">\n",
       "  <thead>\n",
       "    <tr style=\"text-align: right;\">\n",
       "      <th></th>\n",
       "      <th>watercut</th>\n",
       "      <th>temperature</th>\n",
       "      <th>angularvelocity</th>\n",
       "      <th>viscosity</th>\n",
       "    </tr>\n",
       "  </thead>\n",
       "  <tbody>\n",
       "    <tr>\n",
       "      <th>246</th>\n",
       "      <td>60</td>\n",
       "      <td>90</td>\n",
       "      <td>1</td>\n",
       "      <td>1.2000</td>\n",
       "    </tr>\n",
       "    <tr>\n",
       "      <th>210</th>\n",
       "      <td>50</td>\n",
       "      <td>90</td>\n",
       "      <td>1</td>\n",
       "      <td>1.2365</td>\n",
       "    </tr>\n",
       "    <tr>\n",
       "      <th>247</th>\n",
       "      <td>60</td>\n",
       "      <td>90</td>\n",
       "      <td>5</td>\n",
       "      <td>1.2540</td>\n",
       "    </tr>\n",
       "    <tr>\n",
       "      <th>211</th>\n",
       "      <td>50</td>\n",
       "      <td>90</td>\n",
       "      <td>5</td>\n",
       "      <td>1.4613</td>\n",
       "    </tr>\n",
       "    <tr>\n",
       "      <th>248</th>\n",
       "      <td>60</td>\n",
       "      <td>90</td>\n",
       "      <td>15</td>\n",
       "      <td>1.5268</td>\n",
       "    </tr>\n",
       "    <tr>\n",
       "      <th>240</th>\n",
       "      <td>60</td>\n",
       "      <td>70</td>\n",
       "      <td>1</td>\n",
       "      <td>1.5600</td>\n",
       "    </tr>\n",
       "    <tr>\n",
       "      <th>249</th>\n",
       "      <td>60</td>\n",
       "      <td>90</td>\n",
       "      <td>25</td>\n",
       "      <td>1.5794</td>\n",
       "    </tr>\n",
       "    <tr>\n",
       "      <th>250</th>\n",
       "      <td>60</td>\n",
       "      <td>90</td>\n",
       "      <td>35</td>\n",
       "      <td>1.6547</td>\n",
       "    </tr>\n",
       "  </tbody>\n",
       "</table>\n",
       "</div>"
      ],
      "text/plain": [
       "     watercut  temperature  angularvelocity  viscosity\n",
       "246        60           90                1     1.2000\n",
       "210        50           90                1     1.2365\n",
       "247        60           90                5     1.2540\n",
       "211        50           90                5     1.4613\n",
       "248        60           90               15     1.5268\n",
       "240        60           70                1     1.5600\n",
       "249        60           90               25     1.5794\n",
       "250        60           90               35     1.6547"
      ]
     },
     "execution_count": 9,
     "metadata": {},
     "output_type": "execute_result"
    }
   ],
   "source": [
    "df.head(8)"
   ]
  },
  {
   "cell_type": "code",
   "execution_count": 10,
   "metadata": {},
   "outputs": [
    {
     "data": {
      "text/html": [
       "<div>\n",
       "<style scoped>\n",
       "    .dataframe tbody tr th:only-of-type {\n",
       "        vertical-align: middle;\n",
       "    }\n",
       "\n",
       "    .dataframe tbody tr th {\n",
       "        vertical-align: top;\n",
       "    }\n",
       "\n",
       "    .dataframe thead th {\n",
       "        text-align: right;\n",
       "    }\n",
       "</style>\n",
       "<table border=\"1\" class=\"dataframe\">\n",
       "  <thead>\n",
       "    <tr style=\"text-align: right;\">\n",
       "      <th></th>\n",
       "      <th>watercut</th>\n",
       "      <th>temperature</th>\n",
       "      <th>angularvelocity</th>\n",
       "      <th>viscosity</th>\n",
       "    </tr>\n",
       "  </thead>\n",
       "  <tbody>\n",
       "    <tr>\n",
       "      <th>11</th>\n",
       "      <td>0</td>\n",
       "      <td>40</td>\n",
       "      <td>60</td>\n",
       "      <td>NaN</td>\n",
       "    </tr>\n",
       "    <tr>\n",
       "      <th>46</th>\n",
       "      <td>10</td>\n",
       "      <td>40</td>\n",
       "      <td>35</td>\n",
       "      <td>NaN</td>\n",
       "    </tr>\n",
       "    <tr>\n",
       "      <th>47</th>\n",
       "      <td>10</td>\n",
       "      <td>40</td>\n",
       "      <td>60</td>\n",
       "      <td>NaN</td>\n",
       "    </tr>\n",
       "    <tr>\n",
       "      <th>82</th>\n",
       "      <td>20</td>\n",
       "      <td>40</td>\n",
       "      <td>35</td>\n",
       "      <td>NaN</td>\n",
       "    </tr>\n",
       "    <tr>\n",
       "      <th>83</th>\n",
       "      <td>20</td>\n",
       "      <td>40</td>\n",
       "      <td>60</td>\n",
       "      <td>NaN</td>\n",
       "    </tr>\n",
       "    <tr>\n",
       "      <th>118</th>\n",
       "      <td>30</td>\n",
       "      <td>40</td>\n",
       "      <td>35</td>\n",
       "      <td>NaN</td>\n",
       "    </tr>\n",
       "    <tr>\n",
       "      <th>119</th>\n",
       "      <td>30</td>\n",
       "      <td>40</td>\n",
       "      <td>60</td>\n",
       "      <td>NaN</td>\n",
       "    </tr>\n",
       "    <tr>\n",
       "      <th>155</th>\n",
       "      <td>40</td>\n",
       "      <td>40</td>\n",
       "      <td>60</td>\n",
       "      <td>NaN</td>\n",
       "    </tr>\n",
       "  </tbody>\n",
       "</table>\n",
       "</div>"
      ],
      "text/plain": [
       "     watercut  temperature  angularvelocity  viscosity\n",
       "11          0           40               60        NaN\n",
       "46         10           40               35        NaN\n",
       "47         10           40               60        NaN\n",
       "82         20           40               35        NaN\n",
       "83         20           40               60        NaN\n",
       "118        30           40               35        NaN\n",
       "119        30           40               60        NaN\n",
       "155        40           40               60        NaN"
      ]
     },
     "execution_count": 10,
     "metadata": {},
     "output_type": "execute_result"
    }
   ],
   "source": [
    "df.tail(8)"
   ]
  },
  {
   "cell_type": "code",
   "execution_count": 11,
   "metadata": {},
   "outputs": [
    {
     "name": "stdout",
     "output_type": "stream",
     "text": [
      "<class 'pandas.core.frame.DataFrame'>\n",
      "Int64Index: 252 entries, 246 to 155\n",
      "Data columns (total 4 columns):\n",
      " #   Column           Non-Null Count  Dtype  \n",
      "---  ------           --------------  -----  \n",
      " 0   watercut         252 non-null    int64  \n",
      " 1   temperature      252 non-null    int64  \n",
      " 2   angularvelocity  252 non-null    int64  \n",
      " 3   viscosity        243 non-null    float64\n",
      "dtypes: float64(1), int64(3)\n",
      "memory usage: 9.8 KB\n"
     ]
    }
   ],
   "source": [
    "df.info()"
   ]
  },
  {
   "cell_type": "markdown",
   "metadata": {},
   "source": [
    "Есть пустые значения, удалим их из выборки"
   ]
  },
  {
   "cell_type": "code",
   "execution_count": 12,
   "metadata": {},
   "outputs": [
    {
     "data": {
      "text/plain": [
       "watercut           0\n",
       "temperature        0\n",
       "angularvelocity    0\n",
       "viscosity          9\n",
       "dtype: int64"
      ]
     },
     "execution_count": 12,
     "metadata": {},
     "output_type": "execute_result"
    }
   ],
   "source": [
    "len(df) - df.count()"
   ]
  },
  {
   "cell_type": "code",
   "execution_count": 13,
   "metadata": {},
   "outputs": [],
   "source": [
    "df = df.dropna()"
   ]
  },
  {
   "cell_type": "code",
   "execution_count": 14,
   "metadata": {},
   "outputs": [
    {
     "data": {
      "text/plain": [
       "watercut           0\n",
       "temperature        0\n",
       "angularvelocity    0\n",
       "viscosity          0\n",
       "dtype: int64"
      ]
     },
     "execution_count": 14,
     "metadata": {},
     "output_type": "execute_result"
    }
   ],
   "source": [
    "len(df) - df.count()"
   ]
  },
  {
   "cell_type": "markdown",
   "metadata": {},
   "source": [
    "Есть очень большие значения, которые либо не сильно влияют на выборку, либо являются выбросами"
   ]
  },
  {
   "cell_type": "code",
   "execution_count": 15,
   "metadata": {},
   "outputs": [
    {
     "data": {
      "text/plain": [
       "<matplotlib.axes._subplots.AxesSubplot at 0x1eb9f222608>"
      ]
     },
     "execution_count": 15,
     "metadata": {},
     "output_type": "execute_result"
    },
    {
     "data": {
      "image/png": "[encoded data removed]",
      "text/plain": [
       "<Figure size 432x288 with 1 Axes>"
      ]
     },
     "metadata": {},
     "output_type": "display_data"
    }
   ],
   "source": [
    "df['viscosity'].hist()"
   ]
  },
  {
   "cell_type": "markdown",
   "metadata": {},
   "source": [
    "Данные слишком ассиметричны, поэтому прологарифмируем вязкость"
   ]
  },
  {
   "cell_type": "code",
   "execution_count": 16,
   "metadata": {},
   "outputs": [],
   "source": [
    "df['viscosity_log'] = np.log(df['viscosity'])"
   ]
  },
  {
   "cell_type": "code",
   "execution_count": 17,
   "metadata": {},
   "outputs": [
    {
     "data": {
      "text/html": [
       "<div>\n",
       "<style scoped>\n",
       "    .dataframe tbody tr th:only-of-type {\n",
       "        vertical-align: middle;\n",
       "    }\n",
       "\n",
       "    .dataframe tbody tr th {\n",
       "        vertical-align: top;\n",
       "    }\n",
       "\n",
       "    .dataframe thead th {\n",
       "        text-align: right;\n",
       "    }\n",
       "</style>\n",
       "<table border=\"1\" class=\"dataframe\">\n",
       "  <thead>\n",
       "    <tr style=\"text-align: right;\">\n",
       "      <th></th>\n",
       "      <th>watercut</th>\n",
       "      <th>temperature</th>\n",
       "      <th>angularvelocity</th>\n",
       "      <th>viscosity</th>\n",
       "      <th>viscosity_log</th>\n",
       "    </tr>\n",
       "  </thead>\n",
       "  <tbody>\n",
       "    <tr>\n",
       "      <th>count</th>\n",
       "      <td>243.000000</td>\n",
       "      <td>243.000000</td>\n",
       "      <td>243.000000</td>\n",
       "      <td>243.000000</td>\n",
       "      <td>243.000000</td>\n",
       "    </tr>\n",
       "    <tr>\n",
       "      <th>mean</th>\n",
       "      <td>30.452675</td>\n",
       "      <td>57.283951</td>\n",
       "      <td>22.559671</td>\n",
       "      <td>1786.347825</td>\n",
       "      <td>2.986229</td>\n",
       "    </tr>\n",
       "    <tr>\n",
       "      <th>std</th>\n",
       "      <td>20.108200</td>\n",
       "      <td>19.855616</td>\n",
       "      <td>19.589790</td>\n",
       "      <td>8022.352488</td>\n",
       "      <td>2.612025</td>\n",
       "    </tr>\n",
       "    <tr>\n",
       "      <th>min</th>\n",
       "      <td>0.000000</td>\n",
       "      <td>30.000000</td>\n",
       "      <td>1.000000</td>\n",
       "      <td>1.200000</td>\n",
       "      <td>0.182322</td>\n",
       "    </tr>\n",
       "    <tr>\n",
       "      <th>25%</th>\n",
       "      <td>10.000000</td>\n",
       "      <td>40.000000</td>\n",
       "      <td>5.000000</td>\n",
       "      <td>4.649400</td>\n",
       "      <td>1.536738</td>\n",
       "    </tr>\n",
       "    <tr>\n",
       "      <th>50%</th>\n",
       "      <td>30.000000</td>\n",
       "      <td>60.000000</td>\n",
       "      <td>15.000000</td>\n",
       "      <td>6.366700</td>\n",
       "      <td>1.851081</td>\n",
       "    </tr>\n",
       "    <tr>\n",
       "      <th>75%</th>\n",
       "      <td>50.000000</td>\n",
       "      <td>70.000000</td>\n",
       "      <td>35.000000</td>\n",
       "      <td>22.375350</td>\n",
       "      <td>3.107958</td>\n",
       "    </tr>\n",
       "    <tr>\n",
       "      <th>max</th>\n",
       "      <td>60.000000</td>\n",
       "      <td>90.000000</td>\n",
       "      <td>60.000000</td>\n",
       "      <td>84660.000000</td>\n",
       "      <td>11.346399</td>\n",
       "    </tr>\n",
       "  </tbody>\n",
       "</table>\n",
       "</div>"
      ],
      "text/plain": [
       "         watercut  temperature  angularvelocity     viscosity  viscosity_log\n",
       "count  243.000000   243.000000       243.000000    243.000000     243.000000\n",
       "mean    30.452675    57.283951        22.559671   1786.347825       2.986229\n",
       "std     20.108200    19.855616        19.589790   8022.352488       2.612025\n",
       "min      0.000000    30.000000         1.000000      1.200000       0.182322\n",
       "25%     10.000000    40.000000         5.000000      4.649400       1.536738\n",
       "50%     30.000000    60.000000        15.000000      6.366700       1.851081\n",
       "75%     50.000000    70.000000        35.000000     22.375350       3.107958\n",
       "max     60.000000    90.000000        60.000000  84660.000000      11.346399"
      ]
     },
     "execution_count": 17,
     "metadata": {},
     "output_type": "execute_result"
    }
   ],
   "source": [
    "df.describe()"
   ]
  },
  {
   "cell_type": "markdown",
   "metadata": {},
   "source": [
    "Посчитаем выбросы"
   ]
  },
  {
   "cell_type": "code",
   "execution_count": 18,
   "metadata": {},
   "outputs": [
    {
     "data": {
      "text/plain": [
       "<matplotlib.axes._subplots.AxesSubplot at 0x1eb9f31b6c8>"
      ]
     },
     "execution_count": 18,
     "metadata": {},
     "output_type": "execute_result"
    },
    {
     "data": {
      "image/png": "[encoded data removed]",
      "text/plain": [
       "<Figure size 432x288 with 1 Axes>"
      ]
     },
     "metadata": {},
     "output_type": "display_data"
    }
   ],
   "source": [
    "df['viscosity_log'].hist()"
   ]
  },
  {
   "cell_type": "code",
   "execution_count": 19,
   "metadata": {},
   "outputs": [
    {
     "data": {
      "text/plain": [
       "<matplotlib.axes._subplots.AxesSubplot at 0x1eb9f39f188>"
      ]
     },
     "execution_count": 19,
     "metadata": {},
     "output_type": "execute_result"
    },
    {
     "data": {
      "image/png": "[encoded data removed]",
      "text/plain": [
       "<Figure size 432x288 with 1 Axes>"
      ]
     },
     "metadata": {},
     "output_type": "display_data"
    }
   ],
   "source": [
    "df[['viscosity_log']].boxplot()"
   ]
  },
  {
   "cell_type": "markdown",
   "metadata": {},
   "source": [
    "Как видно выбросы располагаются в области больших значений"
   ]
  },
  {
   "cell_type": "markdown",
   "metadata": {},
   "source": [
    "Удаляем лишнее"
   ]
  },
  {
   "cell_type": "code",
   "execution_count": 20,
   "metadata": {},
   "outputs": [
    {
     "data": {
      "text/plain": [
       "(-0.8200916294713674, 5.464787755588469)"
      ]
     },
     "execution_count": 20,
     "metadata": {},
     "output_type": "execute_result"
    }
   ],
   "source": [
    "r_1, r_2 = emissions(df['viscosity_log'])\n",
    "(r_1, r_2)"
   ]
  },
  {
   "cell_type": "code",
   "execution_count": 21,
   "metadata": {},
   "outputs": [],
   "source": [
    "df = df.loc[(r_1 < df['viscosity_log']) & (df['viscosity_log'] < r_2)]"
   ]
  },
  {
   "cell_type": "code",
   "execution_count": 22,
   "metadata": {},
   "outputs": [
    {
     "data": {
      "text/plain": [
       "<matplotlib.axes._subplots.AxesSubplot at 0x1eb9f420988>"
      ]
     },
     "execution_count": 22,
     "metadata": {},
     "output_type": "execute_result"
    },
    {
     "data": {
      "image/png": "[encoded data removed]",
      "text/plain": [
       "<Figure size 432x288 with 1 Axes>"
      ]
     },
     "metadata": {},
     "output_type": "display_data"
    }
   ],
   "source": [
    "df['viscosity_log'].hist(bins=20)"
   ]
  },
  {
   "cell_type": "code",
   "execution_count": 23,
   "metadata": {},
   "outputs": [
    {
     "data": {
      "text/html": [
       "<div>\n",
       "<style scoped>\n",
       "    .dataframe tbody tr th:only-of-type {\n",
       "        vertical-align: middle;\n",
       "    }\n",
       "\n",
       "    .dataframe tbody tr th {\n",
       "        vertical-align: top;\n",
       "    }\n",
       "\n",
       "    .dataframe thead th {\n",
       "        text-align: right;\n",
       "    }\n",
       "</style>\n",
       "<table border=\"1\" class=\"dataframe\">\n",
       "  <thead>\n",
       "    <tr style=\"text-align: right;\">\n",
       "      <th></th>\n",
       "      <th>watercut</th>\n",
       "      <th>temperature</th>\n",
       "      <th>angularvelocity</th>\n",
       "      <th>viscosity</th>\n",
       "      <th>viscosity_log</th>\n",
       "    </tr>\n",
       "  </thead>\n",
       "  <tbody>\n",
       "    <tr>\n",
       "      <th>count</th>\n",
       "      <td>199.000000</td>\n",
       "      <td>199.000000</td>\n",
       "      <td>199.000000</td>\n",
       "      <td>199.000000</td>\n",
       "      <td>199.000000</td>\n",
       "    </tr>\n",
       "    <tr>\n",
       "      <th>mean</th>\n",
       "      <td>30.502513</td>\n",
       "      <td>63.216080</td>\n",
       "      <td>22.577889</td>\n",
       "      <td>11.471040</td>\n",
       "      <td>1.851991</td>\n",
       "    </tr>\n",
       "    <tr>\n",
       "      <th>std</th>\n",
       "      <td>20.219721</td>\n",
       "      <td>16.898644</td>\n",
       "      <td>19.487181</td>\n",
       "      <td>25.201753</td>\n",
       "      <td>0.853375</td>\n",
       "    </tr>\n",
       "    <tr>\n",
       "      <th>min</th>\n",
       "      <td>0.000000</td>\n",
       "      <td>40.000000</td>\n",
       "      <td>1.000000</td>\n",
       "      <td>1.200000</td>\n",
       "      <td>0.182322</td>\n",
       "    </tr>\n",
       "    <tr>\n",
       "      <th>25%</th>\n",
       "      <td>10.000000</td>\n",
       "      <td>50.000000</td>\n",
       "      <td>5.000000</td>\n",
       "      <td>4.295350</td>\n",
       "      <td>1.457515</td>\n",
       "    </tr>\n",
       "    <tr>\n",
       "      <th>50%</th>\n",
       "      <td>30.000000</td>\n",
       "      <td>60.000000</td>\n",
       "      <td>15.000000</td>\n",
       "      <td>5.891000</td>\n",
       "      <td>1.773426</td>\n",
       "    </tr>\n",
       "    <tr>\n",
       "      <th>75%</th>\n",
       "      <td>50.000000</td>\n",
       "      <td>70.000000</td>\n",
       "      <td>35.000000</td>\n",
       "      <td>8.109200</td>\n",
       "      <td>2.092999</td>\n",
       "    </tr>\n",
       "    <tr>\n",
       "      <th>max</th>\n",
       "      <td>60.000000</td>\n",
       "      <td>90.000000</td>\n",
       "      <td>60.000000</td>\n",
       "      <td>193.412000</td>\n",
       "      <td>5.264823</td>\n",
       "    </tr>\n",
       "  </tbody>\n",
       "</table>\n",
       "</div>"
      ],
      "text/plain": [
       "         watercut  temperature  angularvelocity   viscosity  viscosity_log\n",
       "count  199.000000   199.000000       199.000000  199.000000     199.000000\n",
       "mean    30.502513    63.216080        22.577889   11.471040       1.851991\n",
       "std     20.219721    16.898644        19.487181   25.201753       0.853375\n",
       "min      0.000000    40.000000         1.000000    1.200000       0.182322\n",
       "25%     10.000000    50.000000         5.000000    4.295350       1.457515\n",
       "50%     30.000000    60.000000        15.000000    5.891000       1.773426\n",
       "75%     50.000000    70.000000        35.000000    8.109200       2.092999\n",
       "max     60.000000    90.000000        60.000000  193.412000       5.264823"
      ]
     },
     "execution_count": 23,
     "metadata": {},
     "output_type": "execute_result"
    }
   ],
   "source": [
    "df.describe()"
   ]
  },
  {
   "cell_type": "code",
   "execution_count": 24,
   "metadata": {},
   "outputs": [
    {
     "name": "stdout",
     "output_type": "stream",
     "text": [
      "78.96825396825396 %\n"
     ]
    }
   ],
   "source": [
    "print((100/252)*199, '%')"
   ]
  },
  {
   "cell_type": "code",
   "execution_count": 25,
   "metadata": {},
   "outputs": [
    {
     "data": {
      "image/png": "[encoded data removed]",
      "text/plain": [
       "<Figure size 432x288 with 1 Axes>"
      ]
     },
     "metadata": {},
     "output_type": "display_data"
    }
   ],
   "source": [
    "sns.distplot(df['viscosity_log'])\n",
    "plt.title('Вязкость')\n",
    "plt.show()"
   ]
  },
  {
   "cell_type": "code",
   "execution_count": 26,
   "metadata": {},
   "outputs": [
    {
     "data": {
      "text/html": [
       "<div>\n",
       "<style scoped>\n",
       "    .dataframe tbody tr th:only-of-type {\n",
       "        vertical-align: middle;\n",
       "    }\n",
       "\n",
       "    .dataframe tbody tr th {\n",
       "        vertical-align: top;\n",
       "    }\n",
       "\n",
       "    .dataframe thead th {\n",
       "        text-align: right;\n",
       "    }\n",
       "</style>\n",
       "<table border=\"1\" class=\"dataframe\">\n",
       "  <thead>\n",
       "    <tr style=\"text-align: right;\">\n",
       "      <th></th>\n",
       "      <th>watercut</th>\n",
       "      <th>temperature</th>\n",
       "      <th>angularvelocity</th>\n",
       "      <th>viscosity</th>\n",
       "      <th>viscosity_log</th>\n",
       "    </tr>\n",
       "  </thead>\n",
       "  <tbody>\n",
       "    <tr>\n",
       "      <th>count</th>\n",
       "      <td>199.000000</td>\n",
       "      <td>199.000000</td>\n",
       "      <td>199.000000</td>\n",
       "      <td>199.000000</td>\n",
       "      <td>199.000000</td>\n",
       "    </tr>\n",
       "    <tr>\n",
       "      <th>mean</th>\n",
       "      <td>30.502513</td>\n",
       "      <td>63.216080</td>\n",
       "      <td>22.577889</td>\n",
       "      <td>11.471040</td>\n",
       "      <td>1.851991</td>\n",
       "    </tr>\n",
       "    <tr>\n",
       "      <th>std</th>\n",
       "      <td>20.219721</td>\n",
       "      <td>16.898644</td>\n",
       "      <td>19.487181</td>\n",
       "      <td>25.201753</td>\n",
       "      <td>0.853375</td>\n",
       "    </tr>\n",
       "    <tr>\n",
       "      <th>min</th>\n",
       "      <td>0.000000</td>\n",
       "      <td>40.000000</td>\n",
       "      <td>1.000000</td>\n",
       "      <td>1.200000</td>\n",
       "      <td>0.182322</td>\n",
       "    </tr>\n",
       "    <tr>\n",
       "      <th>25%</th>\n",
       "      <td>10.000000</td>\n",
       "      <td>50.000000</td>\n",
       "      <td>5.000000</td>\n",
       "      <td>4.295350</td>\n",
       "      <td>1.457515</td>\n",
       "    </tr>\n",
       "    <tr>\n",
       "      <th>50%</th>\n",
       "      <td>30.000000</td>\n",
       "      <td>60.000000</td>\n",
       "      <td>15.000000</td>\n",
       "      <td>5.891000</td>\n",
       "      <td>1.773426</td>\n",
       "    </tr>\n",
       "    <tr>\n",
       "      <th>75%</th>\n",
       "      <td>50.000000</td>\n",
       "      <td>70.000000</td>\n",
       "      <td>35.000000</td>\n",
       "      <td>8.109200</td>\n",
       "      <td>2.092999</td>\n",
       "    </tr>\n",
       "    <tr>\n",
       "      <th>max</th>\n",
       "      <td>60.000000</td>\n",
       "      <td>90.000000</td>\n",
       "      <td>60.000000</td>\n",
       "      <td>193.412000</td>\n",
       "      <td>5.264823</td>\n",
       "    </tr>\n",
       "  </tbody>\n",
       "</table>\n",
       "</div>"
      ],
      "text/plain": [
       "         watercut  temperature  angularvelocity   viscosity  viscosity_log\n",
       "count  199.000000   199.000000       199.000000  199.000000     199.000000\n",
       "mean    30.502513    63.216080        22.577889   11.471040       1.851991\n",
       "std     20.219721    16.898644        19.487181   25.201753       0.853375\n",
       "min      0.000000    40.000000         1.000000    1.200000       0.182322\n",
       "25%     10.000000    50.000000         5.000000    4.295350       1.457515\n",
       "50%     30.000000    60.000000        15.000000    5.891000       1.773426\n",
       "75%     50.000000    70.000000        35.000000    8.109200       2.092999\n",
       "max     60.000000    90.000000        60.000000  193.412000       5.264823"
      ]
     },
     "execution_count": 26,
     "metadata": {},
     "output_type": "execute_result"
    }
   ],
   "source": [
    "df.describe()"
   ]
  },
  {
   "cell_type": "markdown",
   "metadata": {},
   "source": [
    "Вполне приемлемо."
   ]
  },
  {
   "cell_type": "markdown",
   "metadata": {},
   "source": [
    "__Проведем корелляционный анализ__"
   ]
  },
  {
   "cell_type": "markdown",
   "metadata": {},
   "source": [
    "Рассмотрим корреляцию динамической вязкости водонефтяной эмульсии от обводнености, температуры и угловой скорости вращения вискозиметра."
   ]
  },
  {
   "cell_type": "markdown",
   "metadata": {},
   "source": [
    "Пирсон:"
   ]
  },
  {
   "cell_type": "code",
   "execution_count": 27,
   "metadata": {},
   "outputs": [
    {
     "data": {
      "text/html": [
       "<div>\n",
       "<style scoped>\n",
       "    .dataframe tbody tr th:only-of-type {\n",
       "        vertical-align: middle;\n",
       "    }\n",
       "\n",
       "    .dataframe tbody tr th {\n",
       "        vertical-align: top;\n",
       "    }\n",
       "\n",
       "    .dataframe thead th {\n",
       "        text-align: right;\n",
       "    }\n",
       "</style>\n",
       "<table border=\"1\" class=\"dataframe\">\n",
       "  <thead>\n",
       "    <tr style=\"text-align: right;\">\n",
       "      <th></th>\n",
       "      <th>watercut</th>\n",
       "      <th>temperature</th>\n",
       "      <th>angularvelocity</th>\n",
       "      <th>viscosity_log</th>\n",
       "    </tr>\n",
       "  </thead>\n",
       "  <tbody>\n",
       "    <tr>\n",
       "      <th>watercut</th>\n",
       "      <td>1.000000</td>\n",
       "      <td>-0.034316</td>\n",
       "      <td>0.036302</td>\n",
       "      <td>-0.373060</td>\n",
       "    </tr>\n",
       "    <tr>\n",
       "      <th>temperature</th>\n",
       "      <td>-0.034316</td>\n",
       "      <td>1.000000</td>\n",
       "      <td>0.065337</td>\n",
       "      <td>-0.690215</td>\n",
       "    </tr>\n",
       "    <tr>\n",
       "      <th>angularvelocity</th>\n",
       "      <td>0.036302</td>\n",
       "      <td>0.065337</td>\n",
       "      <td>1.000000</td>\n",
       "      <td>-0.180820</td>\n",
       "    </tr>\n",
       "    <tr>\n",
       "      <th>viscosity_log</th>\n",
       "      <td>-0.373060</td>\n",
       "      <td>-0.690215</td>\n",
       "      <td>-0.180820</td>\n",
       "      <td>1.000000</td>\n",
       "    </tr>\n",
       "  </tbody>\n",
       "</table>\n",
       "</div>"
      ],
      "text/plain": [
       "                 watercut  temperature  angularvelocity  viscosity_log\n",
       "watercut         1.000000    -0.034316         0.036302      -0.373060\n",
       "temperature     -0.034316     1.000000         0.065337      -0.690215\n",
       "angularvelocity  0.036302     0.065337         1.000000      -0.180820\n",
       "viscosity_log   -0.373060    -0.690215        -0.180820       1.000000"
      ]
     },
     "execution_count": 27,
     "metadata": {},
     "output_type": "execute_result"
    }
   ],
   "source": [
    "df[['watercut', 'temperature', 'angularvelocity', 'viscosity_log']].corr(method='pearson')"
   ]
  },
  {
   "cell_type": "markdown",
   "metadata": {},
   "source": [
    "Кендал:"
   ]
  },
  {
   "cell_type": "code",
   "execution_count": 28,
   "metadata": {},
   "outputs": [
    {
     "data": {
      "text/html": [
       "<div>\n",
       "<style scoped>\n",
       "    .dataframe tbody tr th:only-of-type {\n",
       "        vertical-align: middle;\n",
       "    }\n",
       "\n",
       "    .dataframe tbody tr th {\n",
       "        vertical-align: top;\n",
       "    }\n",
       "\n",
       "    .dataframe thead th {\n",
       "        text-align: right;\n",
       "    }\n",
       "</style>\n",
       "<table border=\"1\" class=\"dataframe\">\n",
       "  <thead>\n",
       "    <tr style=\"text-align: right;\">\n",
       "      <th></th>\n",
       "      <th>watercut</th>\n",
       "      <th>temperature</th>\n",
       "      <th>angularvelocity</th>\n",
       "      <th>viscosity_log</th>\n",
       "    </tr>\n",
       "  </thead>\n",
       "  <tbody>\n",
       "    <tr>\n",
       "      <th>watercut</th>\n",
       "      <td>1.000000</td>\n",
       "      <td>-0.029323</td>\n",
       "      <td>0.028159</td>\n",
       "      <td>-0.340963</td>\n",
       "    </tr>\n",
       "    <tr>\n",
       "      <th>temperature</th>\n",
       "      <td>-0.029323</td>\n",
       "      <td>1.000000</td>\n",
       "      <td>0.046851</td>\n",
       "      <td>-0.625108</td>\n",
       "    </tr>\n",
       "    <tr>\n",
       "      <th>angularvelocity</th>\n",
       "      <td>0.028159</td>\n",
       "      <td>0.046851</td>\n",
       "      <td>1.000000</td>\n",
       "      <td>-0.093547</td>\n",
       "    </tr>\n",
       "    <tr>\n",
       "      <th>viscosity_log</th>\n",
       "      <td>-0.340963</td>\n",
       "      <td>-0.625108</td>\n",
       "      <td>-0.093547</td>\n",
       "      <td>1.000000</td>\n",
       "    </tr>\n",
       "  </tbody>\n",
       "</table>\n",
       "</div>"
      ],
      "text/plain": [
       "                 watercut  temperature  angularvelocity  viscosity_log\n",
       "watercut         1.000000    -0.029323         0.028159      -0.340963\n",
       "temperature     -0.029323     1.000000         0.046851      -0.625108\n",
       "angularvelocity  0.028159     0.046851         1.000000      -0.093547\n",
       "viscosity_log   -0.340963    -0.625108        -0.093547       1.000000"
      ]
     },
     "execution_count": 28,
     "metadata": {},
     "output_type": "execute_result"
    }
   ],
   "source": [
    "df[['watercut', 'temperature', 'angularvelocity', 'viscosity_log']].corr(method='kendall')"
   ]
  },
  {
   "cell_type": "markdown",
   "metadata": {},
   "source": [
    "Спирман:"
   ]
  },
  {
   "cell_type": "code",
   "execution_count": 29,
   "metadata": {},
   "outputs": [
    {
     "data": {
      "text/html": [
       "<div>\n",
       "<style scoped>\n",
       "    .dataframe tbody tr th:only-of-type {\n",
       "        vertical-align: middle;\n",
       "    }\n",
       "\n",
       "    .dataframe tbody tr th {\n",
       "        vertical-align: top;\n",
       "    }\n",
       "\n",
       "    .dataframe thead th {\n",
       "        text-align: right;\n",
       "    }\n",
       "</style>\n",
       "<table border=\"1\" class=\"dataframe\">\n",
       "  <thead>\n",
       "    <tr style=\"text-align: right;\">\n",
       "      <th></th>\n",
       "      <th>watercut</th>\n",
       "      <th>temperature</th>\n",
       "      <th>angularvelocity</th>\n",
       "      <th>viscosity_log</th>\n",
       "    </tr>\n",
       "  </thead>\n",
       "  <tbody>\n",
       "    <tr>\n",
       "      <th>watercut</th>\n",
       "      <td>1.000000</td>\n",
       "      <td>-0.037526</td>\n",
       "      <td>0.036346</td>\n",
       "      <td>-0.458701</td>\n",
       "    </tr>\n",
       "    <tr>\n",
       "      <th>temperature</th>\n",
       "      <td>-0.037526</td>\n",
       "      <td>1.000000</td>\n",
       "      <td>0.059334</td>\n",
       "      <td>-0.763955</td>\n",
       "    </tr>\n",
       "    <tr>\n",
       "      <th>angularvelocity</th>\n",
       "      <td>0.036346</td>\n",
       "      <td>0.059334</td>\n",
       "      <td>1.000000</td>\n",
       "      <td>-0.129203</td>\n",
       "    </tr>\n",
       "    <tr>\n",
       "      <th>viscosity_log</th>\n",
       "      <td>-0.458701</td>\n",
       "      <td>-0.763955</td>\n",
       "      <td>-0.129203</td>\n",
       "      <td>1.000000</td>\n",
       "    </tr>\n",
       "  </tbody>\n",
       "</table>\n",
       "</div>"
      ],
      "text/plain": [
       "                 watercut  temperature  angularvelocity  viscosity_log\n",
       "watercut         1.000000    -0.037526         0.036346      -0.458701\n",
       "temperature     -0.037526     1.000000         0.059334      -0.763955\n",
       "angularvelocity  0.036346     0.059334         1.000000      -0.129203\n",
       "viscosity_log   -0.458701    -0.763955        -0.129203       1.000000"
      ]
     },
     "execution_count": 29,
     "metadata": {},
     "output_type": "execute_result"
    }
   ],
   "source": [
    "df[['watercut', 'temperature', 'angularvelocity', 'viscosity_log']].corr(method='spearman')"
   ]
  },
  {
   "cell_type": "markdown",
   "metadata": {},
   "source": [
    "Видно, что вязкость достаточно сильно зависит от температуры, причем зависимость эта обратная, т.е. чем выше температура образца, тем  меньше вязкость. Менее сильно зависит вязкость от обводненности и слабо зависит от начальной угловой скорости сдвига. Везде связь обратная."
   ]
  },
  {
   "cell_type": "markdown",
   "metadata": {},
   "source": [
    "Визуализируем"
   ]
  },
  {
   "cell_type": "code",
   "execution_count": 30,
   "metadata": {},
   "outputs": [
    {
     "data": {
      "image/png": "[encoded data removed]",
      "text/plain": [
       "<Figure size 576x576 with 20 Axes>"
      ]
     },
     "metadata": {},
     "output_type": "display_data"
    }
   ],
   "source": [
    "g = sns.pairplot(df[['watercut', 'temperature', 'angularvelocity', 'viscosity_log']], diag_kind=\"kde\", markers=\"+\",\n",
    "                 plot_kws=dict(s=50, edgecolor=\"b\", linewidth=1),\n",
    "                 diag_kws=dict(shade=True), height=2)"
   ]
  },
  {
   "cell_type": "markdown",
   "metadata": {},
   "source": [
    "Ковариации"
   ]
  },
  {
   "cell_type": "code",
   "execution_count": 31,
   "metadata": {},
   "outputs": [
    {
     "data": {
      "text/plain": [
       "array([[285.56418456,  -9.95350719],\n",
       "       [ -9.95350719,   0.72824814]])"
      ]
     },
     "execution_count": 31,
     "metadata": {},
     "output_type": "execute_result"
    }
   ],
   "source": [
    "np.cov(df['temperature'], df['viscosity_log'])"
   ]
  },
  {
   "cell_type": "code",
   "execution_count": 32,
   "metadata": {},
   "outputs": [
    {
     "data": {
      "text/plain": [
       "array([[408.83711487,  -6.4371498 ],\n",
       "       [ -6.4371498 ,   0.72824814]])"
      ]
     },
     "execution_count": 32,
     "metadata": {},
     "output_type": "execute_result"
    }
   ],
   "source": [
    "np.cov(df['watercut'], df['viscosity_log'])"
   ]
  },
  {
   "cell_type": "code",
   "execution_count": 33,
   "metadata": {},
   "outputs": [
    {
     "data": {
      "text/plain": [
       "array([[379.75021573,  -3.00700501],\n",
       "       [ -3.00700501,   0.72824814]])"
      ]
     },
     "execution_count": 33,
     "metadata": {},
     "output_type": "execute_result"
    }
   ],
   "source": [
    "np.cov(df['angularvelocity'], df['viscosity_log'])"
   ]
  },
  {
   "cell_type": "markdown",
   "metadata": {},
   "source": [
    "Проведем проверку на нормальность"
   ]
  },
  {
   "cell_type": "code",
   "execution_count": 34,
   "metadata": {},
   "outputs": [
    {
     "data": {
      "text/plain": [
       "KstestResult(statistic=0.7645949131524361, pvalue=3.961434375644388e-122)"
      ]
     },
     "execution_count": 34,
     "metadata": {},
     "output_type": "execute_result"
    }
   ],
   "source": [
    "stats.kstest(df['viscosity_log'], 'norm')"
   ]
  },
  {
   "cell_type": "code",
   "execution_count": 35,
   "metadata": {},
   "outputs": [
    {
     "data": {
      "text/plain": [
       "KstestResult(statistic=1.0, pvalue=0.0)"
      ]
     },
     "execution_count": 35,
     "metadata": {},
     "output_type": "execute_result"
    }
   ],
   "source": [
    "stats.kstest(df['temperature'], 'norm')"
   ]
  },
  {
   "cell_type": "code",
   "execution_count": 36,
   "metadata": {},
   "outputs": [
    {
     "data": {
      "text/plain": [
       "KstestResult(statistic=0.8592964824120604, pvalue=1.5133500746786172e-169)"
      ]
     },
     "execution_count": 36,
     "metadata": {},
     "output_type": "execute_result"
    }
   ],
   "source": [
    "stats.kstest(df['watercut'], 'norm')"
   ]
  },
  {
   "cell_type": "code",
   "execution_count": 37,
   "metadata": {},
   "outputs": [
    {
     "data": {
      "text/plain": [
       "KstestResult(statistic=0.8413447460685429, pvalue=7.876876369036086e-159)"
      ]
     },
     "execution_count": 37,
     "metadata": {},
     "output_type": "execute_result"
    }
   ],
   "source": [
    "stats.kstest(df['angularvelocity'], 'norm')"
   ]
  },
  {
   "cell_type": "code",
   "execution_count": 38,
   "metadata": {},
   "outputs": [
    {
     "data": {
      "text/plain": [
       "'Нормально'"
      ]
     },
     "execution_count": 38,
     "metadata": {},
     "output_type": "execute_result"
    }
   ],
   "source": [
    "\"Не нормально\" if stats.kstest(df['viscosity_log'], 'norm').statistic < stats.ksone.ppf(0.95, n=df.shape[0]) else \"Нормально\" "
   ]
  },
  {
   "cell_type": "code",
   "execution_count": 39,
   "metadata": {},
   "outputs": [
    {
     "data": {
      "text/plain": [
       "'Нормально'"
      ]
     },
     "execution_count": 39,
     "metadata": {},
     "output_type": "execute_result"
    }
   ],
   "source": [
    "\"Не нормально\" if stats.kstest(df['temperature'], 'norm').statistic < stats.ksone.ppf(0.95, n=df.shape[0]) else \"Нормально\""
   ]
  },
  {
   "cell_type": "code",
   "execution_count": 40,
   "metadata": {},
   "outputs": [
    {
     "data": {
      "text/plain": [
       "'Нормально'"
      ]
     },
     "execution_count": 40,
     "metadata": {},
     "output_type": "execute_result"
    }
   ],
   "source": [
    "\"Не нормально\" if stats.kstest(df['watercut'], 'norm').statistic < stats.ksone.ppf(0.95, n=df.shape[0]) else \"Нормально\" "
   ]
  },
  {
   "cell_type": "code",
   "execution_count": 41,
   "metadata": {},
   "outputs": [
    {
     "data": {
      "text/plain": [
       "'Нормально'"
      ]
     },
     "execution_count": 41,
     "metadata": {},
     "output_type": "execute_result"
    }
   ],
   "source": [
    "\"Не нормально\" if stats.kstest(df['angularvelocity'], 'norm').statistic < stats.ksone.ppf(0.95, n=df.shape[0]) else \"Нормально\""
   ]
  },
  {
   "cell_type": "markdown",
   "metadata": {},
   "source": [
    "Принимаем нормальность нашей выборки."
   ]
  },
  {
   "cell_type": "markdown",
   "metadata": {},
   "source": [
    "__Посчитаем парную регрессию__"
   ]
  },
  {
   "cell_type": "code",
   "execution_count": 42,
   "metadata": {},
   "outputs": [
    {
     "data": {
      "image/png": "[encoded data removed]",
      "text/plain": [
       "<Figure size 432x288 with 1 Axes>"
      ]
     },
     "metadata": {},
     "output_type": "display_data"
    }
   ],
   "source": [
    "b0, b1 = pair_regression(df['temperature'], df['viscosity_log'])\n",
    "regression_plot(df['temperature'], df['viscosity'], b0, b1, 'Температура', 'Вязкость')"
   ]
  },
  {
   "cell_type": "code",
   "execution_count": 43,
   "metadata": {},
   "outputs": [
    {
     "data": {
      "image/png": "[encoded data removed]",
      "text/plain": [
       "<Figure size 432x288 with 1 Axes>"
      ]
     },
     "metadata": {},
     "output_type": "display_data"
    }
   ],
   "source": [
    "regression_plot(df['temperature'], df['viscosity'], b0, b1, 'Температура', 'Вязкость', False)"
   ]
  },
  {
   "cell_type": "code",
   "execution_count": 44,
   "metadata": {},
   "outputs": [
    {
     "data": {
      "image/png": "[encoded data removed]",
      "text/plain": [
       "<Figure size 432x288 with 1 Axes>"
      ]
     },
     "metadata": {},
     "output_type": "display_data"
    }
   ],
   "source": [
    "b0, b1 = pair_regression(df['watercut'], df['viscosity_log'])\n",
    "regression_plot(df['watercut'], df['viscosity'], b0, b1, 'Обводненность', 'Вязкость')"
   ]
  },
  {
   "cell_type": "code",
   "execution_count": 45,
   "metadata": {},
   "outputs": [
    {
     "data": {
      "image/png": "[encoded data removed]",
      "text/plain": [
       "<Figure size 432x288 with 1 Axes>"
      ]
     },
     "metadata": {},
     "output_type": "display_data"
    }
   ],
   "source": [
    "regression_plot(df['watercut'], df['viscosity'], b0, b1, 'Обводненность', 'Вязкость', False)"
   ]
  },
  {
   "cell_type": "code",
   "execution_count": 46,
   "metadata": {},
   "outputs": [
    {
     "data": {
      "image/png": "[encoded data removed]",
      "text/plain": [
       "<Figure size 432x288 with 1 Axes>"
      ]
     },
     "metadata": {},
     "output_type": "display_data"
    }
   ],
   "source": [
    "b0, b1 = pair_regression(df['angularvelocity'], df['viscosity_log'])\n",
    "regression_plot(df['angularvelocity'], df['viscosity'], b0, b1, 'Угловая скорость', 'Вязкость')"
   ]
  },
  {
   "cell_type": "code",
   "execution_count": 47,
   "metadata": {},
   "outputs": [
    {
     "data": {
      "image/png": "[encoded data removed]",
      "text/plain": [
       "<Figure size 432x288 with 1 Axes>"
      ]
     },
     "metadata": {},
     "output_type": "display_data"
    }
   ],
   "source": [
    "regression_plot(df['angularvelocity'], df['viscosity'], b0, b1, 'Угловая скорость', 'Вязкость', False)"
   ]
  },
  {
   "cell_type": "code",
   "execution_count": 48,
   "metadata": {},
   "outputs": [
    {
     "data": {
      "text/plain": [
       "array([[1.        , 0.47639715],\n",
       "       [0.47639715, 1.        ]])"
      ]
     },
     "execution_count": 48,
     "metadata": {},
     "output_type": "execute_result"
    }
   ],
   "source": [
    "np.corrcoef(df['temperature'], df['viscosity_log']) ** 2"
   ]
  },
  {
   "cell_type": "markdown",
   "metadata": {},
   "source": [
    "Коэффициент детерминации, равный  0.4764 , означает, что  48%  дисперсии вязкости  учитывается или объясняется моделью. Оставшиеся  52%  обусловлены какими-то ещё факторами, которые модель не учла."
   ]
  },
  {
   "cell_type": "code",
   "execution_count": 49,
   "metadata": {},
   "outputs": [
    {
     "data": {
      "text/plain": [
       "array([[1.        , 0.13917382],\n",
       "       [0.13917382, 1.        ]])"
      ]
     },
     "execution_count": 49,
     "metadata": {},
     "output_type": "execute_result"
    }
   ],
   "source": [
    "np.corrcoef(df['watercut'], df['viscosity_log']) ** 2"
   ]
  },
  {
   "cell_type": "markdown",
   "metadata": {},
   "source": [
    "Коэффициент детерминации, равный  0.1392 , означает, что  13%  дисперсии вязкости  учитывается или объясняется моделью. Оставшиеся  87%  обусловлены какими-то ещё факторами, которые модель не учла."
   ]
  },
  {
   "cell_type": "code",
   "execution_count": 50,
   "metadata": {},
   "outputs": [
    {
     "data": {
      "text/plain": [
       "array([[1.        , 0.03269572],\n",
       "       [0.03269572, 1.        ]])"
      ]
     },
     "execution_count": 50,
     "metadata": {},
     "output_type": "execute_result"
    }
   ],
   "source": [
    "np.corrcoef(df['angularvelocity'], df['viscosity_log']) ** 2"
   ]
  },
  {
   "cell_type": "markdown",
   "metadata": {},
   "source": [
    "Коэффициент детерминации, равный  0.0327 , означает, что  3%  дисперсии вязкости  учитывается или объясняется моделью. Оставшиеся  97%  обусловлены какими-то ещё факторами, которые модель не учла. В дальнейшем этот фактор можно не учитвать."
   ]
  },
  {
   "cell_type": "markdown",
   "metadata": {},
   "source": [
    "Как видно, парная регрессия не полностью объясняет дисперсию."
   ]
  },
  {
   "cell_type": "markdown",
   "metadata": {},
   "source": [
    "__Метод наименьших квадратов__"
   ]
  },
  {
   "cell_type": "code",
   "execution_count": 51,
   "metadata": {},
   "outputs": [],
   "source": [
    "x = df[['temperature', 'watercut']].values\n",
    "y = df['viscosity_log'].values.reshape(-1, 1)"
   ]
  },
  {
   "cell_type": "markdown",
   "metadata": {},
   "source": [
    "Добавим столбец единиц"
   ]
  },
  {
   "cell_type": "code",
   "execution_count": 52,
   "metadata": {},
   "outputs": [],
   "source": [
    "x = np.hstack((np.ones((x.shape[0], 1)), x))"
   ]
  },
  {
   "cell_type": "code",
   "execution_count": 53,
   "metadata": {},
   "outputs": [
    {
     "data": {
      "text/plain": [
       "array([[ 4.61029623],\n",
       "       [-0.03554393],\n",
       "       [-0.01676441]])"
      ]
     },
     "execution_count": 53,
     "metadata": {},
     "output_type": "execute_result"
    }
   ],
   "source": [
    "b = least_square_method(x, y)\n",
    "b"
   ]
  },
  {
   "cell_type": "markdown",
   "metadata": {},
   "source": [
    "Модель регрессии имеет вид:\n",
    "$$y = 4,61029623 - 0,03554393 \\cdot x_1 - 0,01676441 \\cdot x_2,$$\n",
    "где $x_1$ — температура, $x_2$ — обводненность."
   ]
  },
  {
   "cell_type": "markdown",
   "metadata": {},
   "source": [
    "Проверим несмещенность модели"
   ]
  },
  {
   "cell_type": "code",
   "execution_count": 54,
   "metadata": {},
   "outputs": [
    {
     "data": {
      "text/plain": [
       "(1.8519913680305546, 1.8519913680305529)"
      ]
     },
     "execution_count": 54,
     "metadata": {},
     "output_type": "execute_result"
    }
   ],
   "source": [
    "x.dot(b).mean(), y.mean()"
   ]
  },
  {
   "cell_type": "markdown",
   "metadata": {},
   "source": [
    "Наша модель несмещенная."
   ]
  },
  {
   "cell_type": "markdown",
   "metadata": {},
   "source": [
    "Оценим уравнение регрессии"
   ]
  },
  {
   "cell_type": "code",
   "execution_count": 55,
   "metadata": {},
   "outputs": [
    {
     "name": "stdout",
     "output_type": "stream",
     "text": [
      "real: [[0.18232156 0.21228481 0.22633844 0.37932645 0.42317404 0.44468582]]\n",
      "pred: [[0.40547751 0.57312161 0.40547751 0.57312161 0.40547751 1.11635621]]\n"
     ]
    }
   ],
   "source": [
    "z = x.dot(b)\n",
    "\n",
    "print(f'real: {y[:6].T}')\n",
    "print(f'pred: {z[:6].T}')"
   ]
  },
  {
   "cell_type": "code",
   "execution_count": 56,
   "metadata": {},
   "outputs": [
    {
     "data": {
      "text/plain": [
       "0.6339897155862435"
      ]
     },
     "execution_count": 56,
     "metadata": {},
     "output_type": "execute_result"
    }
   ],
   "source": [
    "R = 1 - (z - y).var() / y.var()\n",
    "R"
   ]
  },
  {
   "cell_type": "code",
   "execution_count": 57,
   "metadata": {},
   "outputs": [
    {
     "data": {
      "text/plain": [
       "(0.45938171861117055, 0.7245885971295051)"
      ]
     },
     "execution_count": 57,
     "metadata": {},
     "output_type": "execute_result"
    }
   ],
   "source": [
    "z.var(), y.var()"
   ]
  },
  {
   "cell_type": "markdown",
   "metadata": {},
   "source": [
    "Коэффициент детерминации для модели оказался лучше чем для парной регрессии, что вобщем-то неплохо."
   ]
  },
  {
   "cell_type": "markdown",
   "metadata": {},
   "source": [
    "Рассчитаем среднюю ошибку аппроксимации."
   ]
  },
  {
   "cell_type": "code",
   "execution_count": 58,
   "metadata": {},
   "outputs": [
    {
     "data": {
      "text/plain": [
       "0.21509591648964738"
      ]
     },
     "execution_count": 58,
     "metadata": {},
     "output_type": "execute_result"
    }
   ],
   "source": [
    "np.abs((y - z) / y).mean()"
   ]
  },
  {
   "cell_type": "markdown",
   "metadata": {},
   "source": [
    "Оценим значимость уравнения линейной регрессии"
   ]
  },
  {
   "cell_type": "code",
   "execution_count": 59,
   "metadata": {},
   "outputs": [
    {
     "data": {
      "text/plain": [
       "169.75203914547893"
      ]
     },
     "execution_count": 59,
     "metadata": {},
     "output_type": "execute_result"
    }
   ],
   "source": [
    "# Два фактора\n",
    "k = 2\n",
    "# Количество измерений\n",
    "n = x.shape[0]\n",
    "k1 = k\n",
    "k2 = n - k - 1\n",
    "\n",
    "F = (R / k1) / ((1 - R) / k2)\n",
    "F"
   ]
  },
  {
   "cell_type": "code",
   "execution_count": 60,
   "metadata": {},
   "outputs": [
    {
     "data": {
      "text/plain": [
       "3.0419902345156493"
      ]
     },
     "execution_count": 60,
     "metadata": {},
     "output_type": "execute_result"
    }
   ],
   "source": [
    "F_crit = stats.f.ppf(0.95, k1, k2)\n",
    "F_crit"
   ]
  },
  {
   "cell_type": "code",
   "execution_count": 61,
   "metadata": {},
   "outputs": [
    {
     "data": {
      "text/plain": [
       "True"
      ]
     },
     "execution_count": 61,
     "metadata": {},
     "output_type": "execute_result"
    }
   ],
   "source": [
    "F > F_crit"
   ]
  },
  {
   "cell_type": "markdown",
   "metadata": {},
   "source": [
    "Имеем $F > F_{crit}$, поэтому уравнение регрессии статистически значимо."
   ]
  },
  {
   "cell_type": "markdown",
   "metadata": {},
   "source": [
    "Отрисуем полученный результат"
   ]
  },
  {
   "cell_type": "code",
   "execution_count": 62,
   "metadata": {},
   "outputs": [
    {
     "data": {
      "image/png": "[encoded data removed]",
      "text/plain": [
       "<Figure size 432x288 with 2 Axes>"
      ]
     },
     "metadata": {},
     "output_type": "display_data"
    }
   ],
   "source": [
    "fig = plt.figure()\n",
    "ax = fig.gca(projection='3d')\n",
    "# ax = fig.add_subplot(111, projection='3d')\n",
    "\n",
    "# Посчитали.\n",
    "X = np.arange(40, 90, 2.5)\n",
    "Y = np.arange(0, 60, 3)\n",
    "X, Y = np.meshgrid(X, Y)\n",
    "Z = np.exp(4.61029623 - 0.03554393 * X - 0.01676441 * Y)\n",
    "\n",
    "xs = np.array(df['temperature'].values)\n",
    "ys = np.array(df['watercut'].values)\n",
    "zs = np.array(df['viscosity'].values)\n",
    "\n",
    "# Отрисовали.\n",
    "surf = ax.plot_surface(X, Y, Z, cmap=cm.coolwarm, linewidth=0, antialiased=False)\n",
    "ax.scatter(xs, ys, zs, marker='^')\n",
    "\n",
    "# Настроили отображение.\n",
    "ax.set_zlim(1, 10)\n",
    "ax.zaxis.set_major_locator(LinearLocator(10))\n",
    "ax.zaxis.set_major_formatter(FormatStrFormatter('%.02f'))\n",
    "ax.set_xlabel('Температура')\n",
    "ax.set_ylabel('Обводненость')\n",
    "ax.set_zlabel('Вязкость')\n",
    "\n",
    "# Добавили цветной градиент.\n",
    "fig.colorbar(surf, shrink=0.5, aspect=5)\n",
    "\n",
    "plt.show()"
   ]
  },
  {
   "cell_type": "markdown",
   "metadata": {},
   "source": [
    "Полная модель регрессии имеет вид:\n",
    "$$\\mu = e^{4,6103 - 0,0355 \\cdot T - 0,0168 \\cdot W}$$\n",
    "где $\\mu$ — вязкость, $T$ — температура, $W$ — обводненность."
   ]
  }
 ],
 "metadata": {
  "kernelspec": {
   "display_name": "Python 3",
   "language": "python",
   "name": "python3"
  },
  "language_info": {
   "codemirror_mode": {
    "name": "ipython",
    "version": 3
   },
   "file_extension": ".py",
   "mimetype": "text/x-python",
   "name": "python",
   "nbconvert_exporter": "python",
   "pygments_lexer": "ipython3",
   "version": "3.7.6"
  }
 },
 "nbformat": 4,
 "nbformat_minor": 2
}
