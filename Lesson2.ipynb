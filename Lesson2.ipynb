{
 "cells": [
  {
   "cell_type": "markdown",
   "metadata": {},
   "source": [
    "# Домашняя работа к уроку 2"
   ]
  },
  {
   "cell_type": "code",
   "execution_count": 1,
   "metadata": {},
   "outputs": [],
   "source": [
    "import numpy as np\n",
    "import matplotlib.pyplot as plt\n",
    "import math"
   ]
  },
  {
   "cell_type": "markdown",
   "metadata": {},
   "source": [
    "### Задача 1"
   ]
  },
  {
   "cell_type": "markdown",
   "metadata": {},
   "source": [
    "Контрольная работа состоит из пяти вопросов. На каждый вопрос приведено четыре варианта ответа, один из которых правильный. Составьте закон распределения числа правильных ответов при простом угадывании. Найдите `M(X)`, `D(X)`."
   ]
  },
  {
   "cell_type": "markdown",
   "metadata": {},
   "source": [
    "Определим $X$ как случайную величину, равную числу правильных ответов. Число вопросов $n = 5$, тогда случайная величина принимает следующие значения: $X_1 = 0$, $X_2 = 1$, $X_3 = 2$, $X_4 = 3$, $X_5 = 4$, $X_6 = 5$ (от не угадали ни одного ответа до угадали все ответы). Вероятность угадать правильный вопрос $p = \\frac{1}{4}$, так как для каждого вопроса приведено 4 варианта ответа и только один из них правильный."
   ]
  },
  {
   "cell_type": "markdown",
   "metadata": {},
   "source": [
    "Воспользуемся __формулой Бернулли__:\n",
    "$$P(X = k) = C_n^k p^k (1 - p)^{n - k} = C_5^k (\\frac{1}{4})^k (\\frac{3}{4})^{5 - k}$$"
   ]
  },
  {
   "cell_type": "markdown",
   "metadata": {},
   "source": [
    "$P(X = 0) = C_5^0 (\\frac{1}{4})^0 (\\frac{3}{4})^{5} = \\frac{5!}{0! \\cdot 5!} \\cdot 1 \\cdot (\\frac{3}{4})^{5} = \\frac{243}{1024} \\approx 0,2373046875$"
   ]
  },
  {
   "cell_type": "markdown",
   "metadata": {},
   "source": [
    "$P(X = 1) = C_5^1 (\\frac{1}{4})^1 (\\frac{3}{4})^{4} = \\frac{5!}{1! \\cdot (4)!} \\cdot \\frac{1}{4} \\cdot (\\frac{3}{4})^{4} = 5 \\cdot \\frac{81}{1024} \\approx 0,3955078125$"
   ]
  },
  {
   "cell_type": "markdown",
   "metadata": {},
   "source": [
    "$P(X = 2) = C_5^2 (\\frac{1}{4})^2 (\\frac{3}{4})^{3} = \\frac{5!}{2! \\cdot (3)!} \\cdot (\\frac{1}{4})^{2} \\cdot (\\frac{3}{4})^{3} = 10 \\cdot \\frac{1}{16} \\cdot \\frac{27}{64}= \\frac{270}{1024} \\approx 0,263671875$"
   ]
  },
  {
   "cell_type": "markdown",
   "metadata": {},
   "source": [
    "$P(X = 3) = C_5^3 (\\frac{1}{4})^3 (\\frac{3}{4})^{2} = \\frac{5!}{3! \\cdot 2!} \\cdot (\\frac{1}{4})^{3} \\cdot (\\frac{3}{4})^{2} = 10 \\cdot \\frac{1}{64} \\cdot \\frac{9}{16}= \\frac{90}{1024} \\approx 0,087890625$"
   ]
  },
  {
   "cell_type": "markdown",
   "metadata": {},
   "source": [
    "$P(X = 4) = C_5^4 (\\frac{1}{4})^4 (\\frac{3}{4})^{1} = \\frac{5!}{4! \\cdot 1!} \\cdot (\\frac{1}{4})^{4} \\cdot (\\frac{3}{4})^{1} = 5 \\cdot \\frac{1}{256} \\cdot \\frac{3}{4}= \\frac{15}{1024} \\approx 0,0146484375$"
   ]
  },
  {
   "cell_type": "markdown",
   "metadata": {},
   "source": [
    "$P(X = 5) = C_5^5 (\\frac{1}{4})^5 (\\frac{3}{4})^{0} = \\frac{5!}{5! \\cdot 0!} \\cdot (\\frac{1}{4})^{5} \\cdot (\\frac{3}{4})^{0} = 1 \\cdot \\frac{1}{1024} \\cdot 1= \\frac{1}{1024} \\approx 0,0009765625$"
   ]
  },
  {
   "cell_type": "markdown",
   "metadata": {},
   "source": [
    "|$X_i$|0|1|2|3|4|5|\n",
    "|---|---|---|---|---|---|---|\n",
    "|$p_i$|0,23730|0,39551|0,26367|0,08789|0,01465|0,00098|"
   ]
  },
  {
   "cell_type": "markdown",
   "metadata": {},
   "source": [
    "$$M(X) = np = 5 \\cdot 0,25 = 1,25$$"
   ]
  },
  {
   "cell_type": "markdown",
   "metadata": {},
   "source": [
    "$$D(X) = npq = 5 \\cdot 0,25 \\cdot 0,75 = 0,9375$$"
   ]
  },
  {
   "cell_type": "code",
   "execution_count": 2,
   "metadata": {},
   "outputs": [
    {
     "data": {
      "image/png": "[encoded data removed]",
      "text/plain": [
       "<Figure size 432x288 with 1 Axes>"
      ]
     },
     "metadata": {},
     "output_type": "display_data"
    }
   ],
   "source": [
    "x = [0,1,2,3,4,5]\n",
    "y = [0.23730,0.39551,0.26367,0.08789,0.01465,0.00098]\n",
    "plt.plot(x,y)\n",
    "plt.show()"
   ]
  },
  {
   "cell_type": "markdown",
   "metadata": {},
   "source": [
    "### Задача 2"
   ]
  },
  {
   "cell_type": "markdown",
   "metadata": {},
   "source": [
    "Пользователь получает в среднем 10 писем со спамом на свой почтовый ящик за сутки. Найти число `N`, такое, что с вероятностью 0.95 пользователь получит не более `N` писем со спамом за текущий день."
   ]
  },
  {
   "cell_type": "markdown",
   "metadata": {},
   "source": [
    "В среднем за сутки событие наступает $10$ раз, тогда случайная величина $X$, равная количеству наступлений события за единицу времени, имеет распределение Пуассона."
   ]
  },
  {
   "cell_type": "markdown",
   "metadata": {},
   "source": [
    "$$P(X = k) = \\dfrac{\\lambda^k e^{-\\lambda}}{k!}$$"
   ]
  },
  {
   "cell_type": "markdown",
   "metadata": {},
   "source": [
    "Математическое ожидание и дисперсия распределения Пуассона равны:"
   ]
  },
  {
   "cell_type": "markdown",
   "metadata": {},
   "source": [
    "$$M(X) = D(X) = \\lambda = 10$$"
   ]
  },
  {
   "cell_type": "markdown",
   "metadata": {},
   "source": [
    "тогда"
   ]
  },
  {
   "cell_type": "markdown",
   "metadata": {},
   "source": [
    "$$P(X < N) = \\displaystyle\\sum_{i = 0}^{N} \\dfrac{10^{i} e^{-10}}{i!}$$"
   ]
  },
  {
   "cell_type": "markdown",
   "metadata": {},
   "source": [
    "где"
   ]
  },
  {
   "cell_type": "markdown",
   "metadata": {},
   "source": [
    "$$P(N) = 0,95$$"
   ]
  },
  {
   "cell_type": "markdown",
   "metadata": {},
   "source": [
    "Будем высчитывать вероятность $P(X<N)$ в цикле, увеличивая постепенно $N$, до тех пор пока не достигнем заданной вероятности."
   ]
  },
  {
   "cell_type": "code",
   "execution_count": 3,
   "metadata": {},
   "outputs": [
    {
     "name": "stdout",
     "output_type": "stream",
     "text": [
      "N = 16\n"
     ]
    }
   ],
   "source": [
    "p = 0\n",
    "p_n = 0.95\n",
    "i = 0\n",
    "while p <= p_n:\n",
    "    p += 10**i*math.exp(-10)/math.factorial(i)\n",
    "    i += 1\n",
    "print(f'N = {i}')"
   ]
  },
  {
   "cell_type": "markdown",
   "metadata": {},
   "source": [
    "Пользователь получит не более 16 писем со спамом за текущий день."
   ]
  },
  {
   "cell_type": "markdown",
   "metadata": {},
   "source": [
    "### Задача 3"
   ]
  },
  {
   "cell_type": "markdown",
   "metadata": {},
   "source": [
    "Производятся выстрелы по мишени. Вероятность попадания в мишень при одном выстреле равна 0.01. Сколько выстрелов нужно сделать чтобы быть уверенным с вероятностью 0.9, что хотя бы 6 раз будет совершено попадание?\n",
    "\n",
    "_Подсказка_. Здесь предстоит немножко покодить."
   ]
  },
  {
   "cell_type": "markdown",
   "metadata": {},
   "source": [
    "Пусть событие заключается в попадании в мишень, тогда вероятность попадания при одиночном выстреле $p = 0,01$ и всего пападаний при этом $k >= 6$ с вероятностью $P(X \\geq 6) = 0,9$"
   ]
  },
  {
   "cell_type": "markdown",
   "metadata": {},
   "source": [
    "Тогда"
   ]
  },
  {
   "cell_type": "markdown",
   "metadata": {},
   "source": [
    "$$P(X \\geq 6) = 1 - P(X < 6)$$"
   ]
  },
  {
   "cell_type": "markdown",
   "metadata": {},
   "source": [
    "Воспользуемся __формулой Бернулли__:\n",
    "$$P(X = k) = C_n^k p^k (1 - p)^{n - k} = C_5^k (\\frac{1}{4})^k (\\frac{3}{4})^{5 - k}$$"
   ]
  },
  {
   "cell_type": "code",
   "execution_count": null,
   "metadata": {},
   "outputs": [],
   "source": []
  },
  {
   "cell_type": "code",
   "execution_count": null,
   "metadata": {},
   "outputs": [],
   "source": []
  },
  {
   "cell_type": "code",
   "execution_count": null,
   "metadata": {},
   "outputs": [],
   "source": []
  }
 ],
 "metadata": {
  "kernelspec": {
   "display_name": "Python 3",
   "language": "python",
   "name": "python3"
  },
  "language_info": {
   "codemirror_mode": {
    "name": "ipython",
    "version": 3
   },
   "file_extension": ".py",
   "mimetype": "text/x-python",
   "name": "python",
   "nbconvert_exporter": "python",
   "pygments_lexer": "ipython3",
   "version": "3.6.5"
  }
 },
 "nbformat": 4,
 "nbformat_minor": 2
}
